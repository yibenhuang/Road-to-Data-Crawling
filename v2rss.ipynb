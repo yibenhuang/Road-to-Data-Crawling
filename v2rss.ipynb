{
 "cells": [
  {
   "cell_type": "code",
   "execution_count": 1,
   "metadata": {},
   "outputs": [],
   "source": [
    "import pandas as pd\n",
    "import requests\n",
    "from bs4 import BeautifulSoup\n"
   ]
  },
  {
   "cell_type": "code",
   "execution_count": 2,
   "metadata": {},
   "outputs": [],
   "source": [
    "url = \"https://v2ex.com/\"\n",
    "res = requests.get(url)\n",
    "soup = BeautifulSoup(res.text, \"lxml\")\n"
   ]
  },
  {
   "cell_type": "code",
   "execution_count": 3,
   "metadata": {},
   "outputs": [],
   "source": [
    "prefix = \"https://v2ex.com\"\n",
    "suffix = \".json\"\n",
    "rss_dict = {}\n",
    "\n",
    "for tag in soup.findAll(class_=\"cell\"):\n",
    "    if tag.td:\n",
    "        if tag.td.attrs[\"width\"] == \"80\":\n",
    "            category = tag.span.text\n",
    "            rss_links = []\n",
    "            for link in tag.find_all(\"a\"):\n",
    "                rss = prefix + link.get(\"href\").replace(\"go\", \"feed\", 1) + suffix\n",
    "                rss_links.append(rss)\n",
    "            rss_dict[category] = rss_links\n"
   ]
  },
  {
   "cell_type": "code",
   "execution_count": 4,
   "metadata": {},
   "outputs": [],
   "source": [
    "df = pd.DataFrame.from_dict(rss_dict, orient=\"index\").transpose()\n",
    "df.to_excel('rss.xlsx')"
   ]
  }
 ],
 "metadata": {
  "kernelspec": {
   "display_name": "Python 3.8.13 ('qbus6860')",
   "language": "python",
   "name": "python3"
  },
  "language_info": {
   "codemirror_mode": {
    "name": "ipython",
    "version": 3
   },
   "file_extension": ".py",
   "mimetype": "text/x-python",
   "name": "python",
   "nbconvert_exporter": "python",
   "pygments_lexer": "ipython3",
   "version": "3.8.13"
  },
  "orig_nbformat": 4,
  "vscode": {
   "interpreter": {
    "hash": "3000a63511fc8d366130639acddbe89609b2e4680b07f072df06977c7c533630"
   }
  }
 },
 "nbformat": 4,
 "nbformat_minor": 2
}
