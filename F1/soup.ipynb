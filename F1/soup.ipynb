{
 "cells": [
  {
   "cell_type": "code",
   "execution_count": 1,
   "metadata": {},
   "outputs": [],
   "source": [
    "import requests\n",
    "from bs4 import BeautifulSoup"
   ]
  },
  {
   "cell_type": "code",
   "execution_count": 2,
   "metadata": {},
   "outputs": [],
   "source": [
    "url = \"https://www.formula1.com/en/results.html/2021/races.html\"\n",
    "headers = {\n",
    "    \"User-Agent\": \"Mozilla/5.0 (Macintosh; Intel Mac OS X 10_15_7) AppleWebKit/537.36 (KHTML, like Gecko) Chrome/104.0.0.0 Safari/537.36\"\n",
    "}\n",
    "res = requests.get(url, headers=headers).text"
   ]
  },
  {
   "cell_type": "code",
   "execution_count": 3,
   "metadata": {},
   "outputs": [
    {
     "data": {
      "text/plain": [
       "{'All': 'https://www.formula1.com/en/results.html/2021/races.html',\n",
       " 'Bahrain': 'https://www.formula1.com/en/results.html/2021/races/1064/bahrain/race-result.html',\n",
       " 'Emilia Romagna': 'https://www.formula1.com/en/results.html/2021/races/1065/italy/race-result.html',\n",
       " 'Portugal': 'https://www.formula1.com/en/results.html/2021/races/1066/portugal/race-result.html',\n",
       " 'Spain': 'https://www.formula1.com/en/results.html/2021/races/1086/spain/race-result.html',\n",
       " 'Monaco': 'https://www.formula1.com/en/results.html/2021/races/1067/monaco/race-result.html',\n",
       " 'Azerbaijan': 'https://www.formula1.com/en/results.html/2021/races/1068/azerbaijan/race-result.html',\n",
       " 'France': 'https://www.formula1.com/en/results.html/2021/races/1070/france/race-result.html',\n",
       " 'Styria': 'https://www.formula1.com/en/results.html/2021/races/1092/austria/race-result.html',\n",
       " 'Austria': 'https://www.formula1.com/en/results.html/2021/races/1071/austria/race-result.html',\n",
       " 'Great Britain': 'https://www.formula1.com/en/results.html/2021/races/1072/great-britain/race-result.html',\n",
       " 'Hungary': 'https://www.formula1.com/en/results.html/2021/races/1073/hungary/race-result.html',\n",
       " 'Belgium': 'https://www.formula1.com/en/results.html/2021/races/1074/belgium/race-result.html',\n",
       " 'Netherlands': 'https://www.formula1.com/en/results.html/2021/races/1075/netherlands/race-result.html',\n",
       " 'Italy': 'https://www.formula1.com/en/results.html/2021/races/1076/italy/race-result.html',\n",
       " 'Russia': 'https://www.formula1.com/en/results.html/2021/races/1077/russia/race-result.html',\n",
       " 'Turkey': 'https://www.formula1.com/en/results.html/2021/races/1078/turkey/race-result.html',\n",
       " 'United States': 'https://www.formula1.com/en/results.html/2021/races/1102/united-states/race-result.html',\n",
       " 'Mexico': 'https://www.formula1.com/en/results.html/2021/races/1103/mexico/race-result.html',\n",
       " 'Brazil': 'https://www.formula1.com/en/results.html/2021/races/1104/brazil/race-result.html',\n",
       " 'Qatar': 'https://www.formula1.com/en/results.html/2021/races/1105/qatar/race-result.html',\n",
       " 'Saudi Arabia': 'https://www.formula1.com/en/results.html/2021/races/1106/saudi-arabia/race-result.html',\n",
       " 'Abu Dhabi': 'https://www.formula1.com/en/results.html/2021/races/1107/abu-dhabi/race-result.html'}"
      ]
     },
     "execution_count": 3,
     "metadata": {},
     "output_type": "execute_result"
    }
   ],
   "source": [
    "soup = BeautifulSoup(res, \"lxml\")\n",
    "sources = soup.select(\".resultsarchive-filter-wrap a\")\n",
    "\n",
    "race_links = {}\n",
    "for i in sources:\n",
    "    if i[\"data-name\"] == \"meetingKey\":\n",
    "        location = i.text.strip()\n",
    "        link = \"https://www.formula1.com\" + i[\"href\"]\n",
    "        race_links[location] = link\n",
    "\n",
    "race_links"
   ]
  }
 ],
 "metadata": {
  "kernelspec": {
   "display_name": "Python 3.10.5 ('py310')",
   "language": "python",
   "name": "python3"
  },
  "language_info": {
   "codemirror_mode": {
    "name": "ipython",
    "version": 3
   },
   "file_extension": ".py",
   "mimetype": "text/x-python",
   "name": "python",
   "nbconvert_exporter": "python",
   "pygments_lexer": "ipython3",
   "version": "3.10.5"
  },
  "orig_nbformat": 4,
  "vscode": {
   "interpreter": {
    "hash": "8a6bc8552e050c5b3674fb5162f767192e73344528f8a42e7c6f14433404ddd2"
   }
  }
 },
 "nbformat": 4,
 "nbformat_minor": 2
}
